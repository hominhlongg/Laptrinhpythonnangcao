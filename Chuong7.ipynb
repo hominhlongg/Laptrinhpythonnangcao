{
  "nbformat": 4,
  "nbformat_minor": 0,
  "metadata": {
    "colab": {
      "name": "Chuong7.ipynb",
      "provenance": [],
      "authorship_tag": "ABX9TyN1O49YUlvh/KYiFaoQpLDD",
      "include_colab_link": true
    },
    "kernelspec": {
      "name": "python3",
      "display_name": "Python 3"
    },
    "language_info": {
      "name": "python"
    }
  },
  "cells": [
    {
      "cell_type": "markdown",
      "metadata": {
        "id": "view-in-github",
        "colab_type": "text"
      },
      "source": [
        "<a href=\"https://colab.research.google.com/github/hominhlongg/Laptrinhpythonnangcao/blob/main/Chuong7.ipynb\" target=\"_parent\"><img src=\"https://colab.research.google.com/assets/colab-badge.svg\" alt=\"Open In Colab\"/></a>"
      ]
    },
    {
      "cell_type": "code",
      "metadata": {
        "colab": {
          "base_uri": "https://localhost:8080/"
        },
        "id": "bLVQ-BV7zlti",
        "outputId": "354b0845-1ccc-4f88-ce3b-c95a5c24a22f"
      },
      "source": [
        "str1='Hello'\n",
        "print(str1.upper())\n",
        "str2='Happy Birthday!'\n",
        "print(str2.lower())\n",
        "str3='WeeeEEEEeeeEEEEeee'\n",
        "print(str3.swapcase())\n",
        "str4='ABC123'\n",
        "print(str4.isupper())\n",
        "str5='aeiouAEIOU'\n",
        "print(str5.count('a'))\n",
        "str6='hello'\n",
        "print(str6.endswith('o'))\n",
        "str7='hello'\n",
        "print(str6.startswith('H'))\n",
        "str8='Hello {0}'.format('Python')\n",
        "print(str8)\n",
        "str9='Hello {0}! Hello {1}!'.format('Python', 'World')\n",
        "print(str9)"
      ],
      "execution_count": 1,
      "outputs": [
        {
          "output_type": "stream",
          "name": "stdout",
          "text": [
            "HELLO\n",
            "happy birthday!\n",
            "wEEEeeeeEEEeeeeEEE\n",
            "True\n",
            "1\n",
            "True\n",
            "False\n",
            "Hello Python\n",
            "Hello Python! Hello World!\n"
          ]
        }
      ]
    },
    {
      "cell_type": "code",
      "metadata": {
        "colab": {
          "base_uri": "https://localhost:8080/"
        },
        "id": "SiWkp5wjzps0",
        "outputId": "c323b286-7917-4158-9230-5b19f1a53a51"
      },
      "source": [
        "\n",
        "a = 'tomato'\n",
        "b = 'o'\n",
        "\n",
        "c = a.find(b)\n",
        "print(c)"
      ],
      "execution_count": 2,
      "outputs": [
        {
          "output_type": "stream",
          "name": "stdout",
          "text": [
            "1\n"
          ]
        }
      ]
    },
    {
      "cell_type": "code",
      "metadata": {
        "colab": {
          "base_uri": "https://localhost:8080/"
        },
        "id": "pbV3DXcvzqlJ",
        "outputId": "2141da1f-a6d5-4bbc-dbd4-c2d91cfeaed3"
      },
      "source": [
        "\n",
        "str = 'runner'\n",
        "str1 = str.replace(\"n\", \"b\")\n",
        "print(str1)"
      ],
      "execution_count": 3,
      "outputs": [
        {
          "output_type": "stream",
          "name": "stdout",
          "text": [
            "rubber\n"
          ]
        }
      ]
    },
    {
      "cell_type": "code",
      "metadata": {
        "colab": {
          "base_uri": "https://localhost:8080/"
        },
        "id": "7uk7mbGzzsGA",
        "outputId": "3b30fd12-59f1-45c9-cb83-cabb00697a19"
      },
      "source": [
        "\n",
        "fruit = 'pineapple'\n",
        "a = \"p\";\n",
        "print(fruit.count(a))\n",
        "print(fruit.upper().swapcase())\n",
        "fruit1 = fruit.replace (fruit.swapcase (), fruit.lower ())\n",
        "print(fruit1)"
      ],
      "execution_count": 4,
      "outputs": [
        {
          "output_type": "stream",
          "name": "stdout",
          "text": [
            "3\n",
            "pineapple\n",
            "pineapple\n"
          ]
        }
      ]
    },
    {
      "cell_type": "code",
      "metadata": {
        "colab": {
          "base_uri": "https://localhost:8080/"
        },
        "id": "BDaPhx1nzuLQ",
        "outputId": "82fd1d38-f06e-4ebe-b863-bae6682480ae"
      },
      "source": [
        "txt= \"I love {a} !\"\n",
        "print(txt.format(a =\"summer\"))"
      ],
      "execution_count": 5,
      "outputs": [
        {
          "output_type": "stream",
          "name": "stdout",
          "text": [
            "I love summer !\n"
          ]
        }
      ]
    },
    {
      "cell_type": "code",
      "metadata": {
        "colab": {
          "base_uri": "https://localhost:8080/"
        },
        "id": "mLVyZfUwzv9r",
        "outputId": "caa296fa-43df-4524-878d-dae713f66109"
      },
      "source": [
        "str1 = 'hihi'\n",
        "str2 = ''\n",
        "\n",
        "for i in range(len(str1)):\n",
        "    str2 = str2 + str1[i]\n",
        "print(str1)\n",
        "print(str2)"
      ],
      "execution_count": 6,
      "outputs": [
        {
          "output_type": "stream",
          "name": "stdout",
          "text": [
            "hihi\n",
            "hihi\n"
          ]
        }
      ]
    }
  ]
}