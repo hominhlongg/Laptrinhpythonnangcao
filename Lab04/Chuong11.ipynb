{
  "nbformat": 4,
  "nbformat_minor": 0,
  "metadata": {
    "colab": {
      "name": "Chuong11.ipynb",
      "provenance": [],
      "collapsed_sections": [],
      "include_colab_link": true
    },
    "kernelspec": {
      "name": "python3",
      "display_name": "Python 3"
    },
    "language_info": {
      "name": "python"
    }
  },
  "cells": [
    {
      "cell_type": "markdown",
      "metadata": {
        "id": "view-in-github",
        "colab_type": "text"
      },
      "source": [
        "<a href=\"https://colab.research.google.com/github/hominhlongg/Laptrinhpythonnangcao/blob/main/Lab04/Chuong11.ipynb\" target=\"_parent\"><img src=\"https://colab.research.google.com/assets/colab-badge.svg\" alt=\"Open In Colab\"/></a>"
      ]
    },
    {
      "cell_type": "markdown",
      "metadata": {
        "id": "EUJRm0SMUoGX"
      },
      "source": [
        "Bài 1:"
      ]
    },
    {
      "cell_type": "code",
      "metadata": {
        "colab": {
          "base_uri": "https://localhost:8080/"
        },
        "id": "xUu13D9SWC_8",
        "outputId": "44a3eb68-dbef-46c8-c406-f4e9eda43145"
      },
      "source": [
        "from collections import Counter\n",
        "list1 = [3,1,1,0,2,0,0,0]\n",
        "def find_dups():\n",
        "  print(Counter(list1))\n",
        "find_dups()\n"
      ],
      "execution_count": 3,
      "outputs": [
        {
          "output_type": "stream",
          "name": "stdout",
          "text": [
            "Counter({0: 4, 1: 2, 3: 1, 2: 1})\n"
          ]
        }
      ]
    },
    {
      "cell_type": "markdown",
      "metadata": {
        "id": "HD9v59_NTNGh"
      },
      "source": [
        "Bài 2:"
      ]
    },
    {
      "cell_type": "code",
      "metadata": {
        "id": "VXT2-armTNL7",
        "colab": {
          "base_uri": "https://localhost:8080/"
        },
        "outputId": "3b35905d-278b-435a-d8e0-d85426118ba1"
      },
      "source": [
        "def read_molecule(reader):\n",
        "    \n",
        "    line = reader.readline()\n",
        "    if not line:\n",
        "        return None\n",
        "\n",
        "    key, name = line.split()\n",
        "\n",
        "    molecule = [name]\n",
        "    line = reader.readline()\n",
        "    \n",
        "   \n",
        "    while not line.startswith('END'):\n",
        "        key, num, atom_type, x, y, z = line.split()\n",
        "        molecule.append([atom_type, x, y, z])\n",
        "        line = reader.readline()\n",
        "    return molecule\n",
        "\n",
        "def read_all_molecules(reader):\n",
        "    result = []\n",
        "    reading = True\n",
        "    while reading:\n",
        "        molecule = read_molecule(reader)\n",
        "        if molecule: \n",
        "            result.append(molecule)\n",
        "        else:\n",
        "            reading = False\n",
        "    return result\n",
        "if __name__ == \"__main__\":\n",
        "    molecule_file = open('/content/sample_data/multimol','r')\n",
        "    molecules = read_all_molecules(molecule_file)\n",
        "    print(molecules)"
      ],
      "execution_count": 5,
      "outputs": [
        {
          "output_type": "stream",
          "name": "stdout",
          "text": [
            "[['AMMONIA', ['N', '0.257', '-0.363', '0.000'], ['H', '0.257', '0.727', '0.000'], ['H', '0.771', '-0.727', '0.890'], ['H', '0.771', '-0.727', '-0.890']], ['METHANOL', ['C', '-0.748', '-0.015', '0.024'], ['O', '0.558', '0.420', '-0.278'], ['H', '-1.293', '-0.202', '-0.901'], ['H', '-1.263', '0.754', '0.600'], ['H', '-0.699', '-0.934', '0.609'], ['H', '0.716', '1.404', '0.137']]]\n"
          ]
        }
      ]
    },
    {
      "cell_type": "markdown",
      "metadata": {
        "id": "-bo1dmVDTNR3"
      },
      "source": [
        "Bài 3:"
      ]
    },
    {
      "cell_type": "code",
      "metadata": {
        "id": "cOr-roL4TNXN",
        "colab": {
          "base_uri": "https://localhost:8080/"
        },
        "outputId": "b89a63d4-c87e-4ef9-bf72-e8e197885850"
      },
      "source": [
        "\n",
        "def mating_pairs(males, females):\n",
        "    try:\n",
        "        pairs = set()\n",
        "        num_gerbils = len(males)\n",
        "        for i in range(num_gerbils):\n",
        "            male = males.pop()\n",
        "            female = females.pop()\n",
        "            pairs.add((male, female),)\n",
        "        return pairs\n",
        "    except:\n",
        "        return print(\"Số lượng Males và Females phải bằng nhau\")\n",
        "males = {'Nam1', 'Nam2', 'Nam3'}\n",
        "females = {'Nu1', 'Nu2', 'Nu3'}\n",
        "mating_pairs(males, females)"
      ],
      "execution_count": 6,
      "outputs": [
        {
          "output_type": "execute_result",
          "data": {
            "text/plain": [
              "{('Nam1', 'Nu3'), ('Nam2', 'Nu2'), ('Nam3', 'Nu1')}"
            ]
          },
          "metadata": {},
          "execution_count": 6
        }
      ]
    },
    {
      "cell_type": "markdown",
      "metadata": {
        "id": "TB0JZEUpTNc4"
      },
      "source": [
        "Bài 4:"
      ]
    },
    {
      "cell_type": "code",
      "metadata": {
        "id": "QH7HeIvjTNkz",
        "colab": {
          "base_uri": "https://localhost:8080/"
        },
        "outputId": "051d301c-f326-426c-b253-4fe0d92dad12"
      },
      "source": [
        "def get_authors(filenames):\n",
        "    authors = set()\n",
        "    for filename in filenames:\n",
        "        for line in open(filename,'r'):\n",
        "            if line.lower().startswith('author'):\n",
        "                author = line[6:].strip()\n",
        "                authors.add(author)\n",
        "    return authors\n",
        "if __name__ == \"__main__\":\n",
        "    list_file = ['/content/sample_data/PDB_1','/content/sample_data/PDB_2']\n",
        "    print(get_authors(list_file))"
      ],
      "execution_count": 7,
      "outputs": [
        {
          "output_type": "stream",
          "name": "stdout",
          "text": [
            "{'J.K.Rowling', 'Minh Long'}\n"
          ]
        }
      ]
    },
    {
      "cell_type": "code",
      "metadata": {
        "id": "asOzkHHvVs__"
      },
      "source": [
        ""
      ],
      "execution_count": null,
      "outputs": []
    },
    {
      "cell_type": "markdown",
      "metadata": {
        "id": "QZVsWQT-8gja"
      },
      "source": [
        "Bài 5:"
      ]
    },
    {
      "cell_type": "code",
      "metadata": {
        "id": "X65kjgCX8gs-",
        "colab": {
          "base_uri": "https://localhost:8080/"
        },
        "outputId": "b1d0abdd-6198-431c-f354-c88b86361f37"
      },
      "source": [
        "def count_values(dictionary):\n",
        "  return len(set(dictionary.values()))\n",
        "count_values({'red': 1, 'green': 2, 'blue': 2})"
      ],
      "execution_count": null,
      "outputs": [
        {
          "output_type": "execute_result",
          "data": {
            "text/plain": [
              "2"
            ]
          },
          "metadata": {},
          "execution_count": 1
        }
      ]
    },
    {
      "cell_type": "markdown",
      "metadata": {
        "id": "Mg5d3JhM8i5-"
      },
      "source": [
        "Bài 6:"
      ]
    },
    {
      "cell_type": "code",
      "metadata": {
        "id": "hP67NKNT8jJo",
        "colab": {
          "base_uri": "https://localhost:8080/",
          "height": 35
        },
        "outputId": "521d0bf8-2f30-4019-e04f-7d9692a54293"
      },
      "source": [
        "def least_likely(particle_to_probability):\n",
        "  smallest = 1\n",
        "  name = ''\n",
        "  for particle in particle_to_probability:\n",
        "    probability = particle_to_probability[particle]\n",
        "    if probability < smallest:\n",
        "      smallest = probability\n",
        "      name = particle\n",
        "  return name\n",
        "least_likely({'neutron': 0.55, 'proton': 0.21, 'meson': 0.03, 'muon': 0.07, 'neutrino': 0.14})"
      ],
      "execution_count": null,
      "outputs": [
        {
          "output_type": "execute_result",
          "data": {
            "application/vnd.google.colaboratory.intrinsic+json": {
              "type": "string"
            },
            "text/plain": [
              "'meson'"
            ]
          },
          "metadata": {},
          "execution_count": 2
        }
      ]
    },
    {
      "cell_type": "markdown",
      "metadata": {
        "id": "7C0ThHvlTN_i"
      },
      "source": [
        "Bài 7:"
      ]
    },
    {
      "cell_type": "code",
      "metadata": {
        "id": "vg9JqYOsTOEi",
        "colab": {
          "base_uri": "https://localhost:8080/"
        },
        "outputId": "d6edfced-f8e0-4567-9bd2-288030151689"
      },
      "source": [
        "dict1 = {'a':1, 'b':2,'c':2,'d':3,'e':3}\n",
        "def count_duplicates(dict1):\n",
        "    dict2 = { }\n",
        "  \n",
        "    for key, value in dict1.items(): \n",
        "        dict2.setdefault(value, set()).add(key) \n",
        "          \n",
        "    result = [key for key, values in dict2.items() if len(values) > 1] \n",
        "    print(\"Duplicate values are: \", result)\n",
        "\n",
        "    output = len(result)\n",
        "    print(\"The number of values that appear two or more times are:\" , output)\n",
        "count_duplicates(dict1)\n"
      ],
      "execution_count": null,
      "outputs": [
        {
          "output_type": "stream",
          "name": "stdout",
          "text": [
            "Duplicate values are:  [2, 3]\n",
            "The number of values that appear two or more times are: 2\n"
          ]
        }
      ]
    },
    {
      "cell_type": "markdown",
      "metadata": {
        "id": "ySPmSGXH84wv"
      },
      "source": [
        "Bài 8:"
      ]
    },
    {
      "cell_type": "code",
      "metadata": {
        "id": "7nqqZlDa85DP",
        "colab": {
          "base_uri": "https://localhost:8080/"
        },
        "outputId": "ecd71115-367b-4dfd-dbdb-d2f3b98d1052"
      },
      "source": [
        "def is_balanced(color_to_factor):\n",
        "  values = list(color_to_factor.values())\n",
        "  total = sum(values)\n",
        "  return total == 1.0\n",
        "is_balanced({'R': 0.5, 'G': 0.4, 'B': 0.7})"
      ],
      "execution_count": null,
      "outputs": [
        {
          "output_type": "execute_result",
          "data": {
            "text/plain": [
              "False"
            ]
          },
          "metadata": {},
          "execution_count": 3
        }
      ]
    },
    {
      "cell_type": "markdown",
      "metadata": {
        "id": "6rFfCfDgTOJ-"
      },
      "source": [
        "Bài 9:"
      ]
    },
    {
      "cell_type": "code",
      "metadata": {
        "id": "B34SfhvXhKOs",
        "colab": {
          "base_uri": "https://localhost:8080/"
        },
        "outputId": "43a96742-2ff5-4fa3-9adb-6129510b7536"
      },
      "source": [
        "dict1= {'a':1, 'b':2, 'c':3}\n",
        "dict2= {'a':1, 'b':2, 'c':0, 'd':4}\n",
        "print('Dict1:',dict1)\n",
        "print('Dict2:',dict2)\n",
        "def dict_intersect(dict1,dict2):\n",
        "  dict3 = dict(dict1.items() & dict2.items())\n",
        "  print (\"New dictionary\", str(dict3))\n",
        "dict_intersect(dict1,dict2)"
      ],
      "execution_count": null,
      "outputs": [
        {
          "output_type": "stream",
          "name": "stdout",
          "text": [
            "Dict1: {'a': 1, 'b': 2, 'c': 3}\n",
            "Dict2: {'a': 1, 'b': 2, 'c': 0, 'd': 4}\n",
            "New dictionary {'a': 1, 'b': 2}\n"
          ]
        }
      ]
    },
    {
      "cell_type": "markdown",
      "metadata": {
        "id": "Mi8FMqX29HhH"
      },
      "source": [
        "Bài 10:"
      ]
    },
    {
      "cell_type": "code",
      "metadata": {
        "id": "sRp0guNC9Hr_",
        "colab": {
          "base_uri": "https://localhost:8080/"
        },
        "outputId": "0620c7bf-5fcb-409c-e5e4-af291d790700"
      },
      "source": [
        "def db_headings(dict_of_dict):\n",
        "  inner_keys = set()\n",
        "  for key in dict_of_dict:\n",
        "    for inner_key in dict_of_dict[key]:\n",
        "      inner_keys.add(inner_key)\n",
        "  return inner_keys\n",
        "db_headings({'A': {1: 'a', 2: 'b'}, 'B': {2: 'c', 3: 'd'}})"
      ],
      "execution_count": null,
      "outputs": [
        {
          "output_type": "execute_result",
          "data": {
            "text/plain": [
              "{1, 2, 3}"
            ]
          },
          "metadata": {},
          "execution_count": 4
        }
      ]
    },
    {
      "cell_type": "markdown",
      "metadata": {
        "id": "1R2QlHcf9L6G"
      },
      "source": [
        "Bài 11:"
      ]
    },
    {
      "cell_type": "code",
      "metadata": {
        "id": "dLNWJtq_9MBe",
        "colab": {
          "base_uri": "https://localhost:8080/"
        },
        "outputId": "86ca8fa4-3626-4167-9350-6d9c0ce41b2b"
      },
      "source": [
        "def db_consistent(dict_of_dict):\n",
        "  inner_keys_list = []\n",
        "  # Build a list of list of keys\n",
        "  for key in dict_of_dict:\n",
        "    inner_keys = list(dict_of_dict[key].keys())\n",
        "    inner_keys.sort()\n",
        "    inner_keys_list.append(inner_keys)\n",
        "  for i in range(1, len(inner_keys_list)):\n",
        "    # If the number of keys is different.\n",
        "    if len(inner_keys_list[0]) != len(inner_keys_list[i]):\n",
        "      return False\n",
        "    # If the keys don't match.\n",
        "    for j in range(len(inner_keys_list[0])):\n",
        "      if inner_keys_list[0][j] != inner_keys_list[i][j]:\n",
        "        return False\n",
        "  return True\n",
        "db_consistent({'A': {1: 'a', 2: 'b'}, 'B': {2: 'c', 3: 'd'}})"
      ],
      "execution_count": null,
      "outputs": [
        {
          "output_type": "execute_result",
          "data": {
            "text/plain": [
              "False"
            ]
          },
          "metadata": {},
          "execution_count": 5
        }
      ]
    },
    {
      "cell_type": "markdown",
      "metadata": {
        "id": "JYaR36O59SRW"
      },
      "source": [
        "Bài 12:"
      ]
    },
    {
      "cell_type": "code",
      "metadata": {
        "id": "oohg4zKO9SYg",
        "colab": {
          "base_uri": "https://localhost:8080/"
        },
        "outputId": "5615b26e-abbf-493d-e862-02dd014d64d0"
      },
      "source": [
        "print(\"Câu A\")\n",
        "def sparse_add(vector1, vector2):\n",
        "  sum_vector = vector1.copy()\n",
        "  for key in vector2:\n",
        "    if key in sum_vector:\n",
        "      sum_vector[key] = sum_vector[key] + vector2[key]\n",
        "    else:\n",
        "      sum_vector[key] = vector2[key]\n",
        "  return sum_vector\n",
        "sparse_add({1: 3, 3: 4}, {2: 4, 3: 5, 5: 6})\n"
      ],
      "execution_count": null,
      "outputs": [
        {
          "output_type": "stream",
          "name": "stdout",
          "text": [
            "Câu A\n"
          ]
        },
        {
          "output_type": "execute_result",
          "data": {
            "text/plain": [
              "{1: 3, 2: 4, 3: 9, 5: 6}"
            ]
          },
          "metadata": {},
          "execution_count": 16
        }
      ]
    },
    {
      "cell_type": "code",
      "metadata": {
        "id": "43bHg0Vo-mMA",
        "colab": {
          "base_uri": "https://localhost:8080/"
        },
        "outputId": "8cbf8340-5303-4205-94d2-e628eef77a00"
      },
      "source": [
        "print(\"Câu B\")\n",
        "def sparse_dot(vector1, vector2):\n",
        "  dot = 0\n",
        "  for key1 in vector1:\n",
        "    if key1 in vector2:\n",
        "      dot = dot + vector1[key1] * vector2[key1]\n",
        "  return dot\n",
        "sparse_dot({1: 3, 3: 4}, {2: 4, 3: 5, 5: 6})"
      ],
      "execution_count": null,
      "outputs": [
        {
          "output_type": "stream",
          "name": "stdout",
          "text": [
            "Câu B\n"
          ]
        },
        {
          "output_type": "execute_result",
          "data": {
            "text/plain": [
              "20"
            ]
          },
          "metadata": {},
          "execution_count": 17
        }
      ]
    }
  ]
}