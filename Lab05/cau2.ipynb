{
 "cells": [
  {
   "cell_type": "code",
   "execution_count": 1,
   "metadata": {},
   "outputs": [],
   "source": [
    "from Continent import Continent\n",
    "from Country import Country"
   ]
  },
  {
   "cell_type": "code",
   "execution_count": 2,
   "metadata": {},
   "outputs": [
    {
     "name": "stdout",
     "output_type": "stream",
     "text": [
      "Canada has a population of 34482779 and its area is 9984670 square kilometers.\n",
      "United States of America has a population of 313914040 and its area is 9826675 square kilometers.\n",
      "Mexico has a population of 112336538 and its area is 1943950 square kilometers.\n"
     ]
    }
   ],
   "source": [
    "canada = Country('Canada', 34482779, 9984670)\n",
    "usa = Country('United States of America', 313914040,9826675)\n",
    "mexico = Country('Mexico', 112336538, 1943950)\n",
    "\n",
    "countries = [canada, usa , mexico]\n",
    "north_america = Continent('North America', countries)\n",
    "\n",
    "for country in north_america.countries:\n",
    "    print(country)"
   ]
  },
  {
   "cell_type": "code",
   "execution_count": 3,
   "metadata": {},
   "outputs": [
    {
     "name": "stdout",
     "output_type": "stream",
     "text": [
      "460733357\n"
     ]
    }
   ],
   "source": [
    "#cau b\n",
    "print(north_america.total_population())"
   ]
  },
  {
   "cell_type": "code",
   "execution_count": 4,
   "metadata": {},
   "outputs": [
    {
     "name": "stdout",
     "output_type": "stream",
     "text": [
      "North America\n",
      "Canada has a population of 34482779 and is 9984670 square km.\n",
      "United States of America has a population of 313914040 and is 9826675 square km.\n",
      "Mexico has a population of 112336538 and is 1943950 square km.\n",
      "\n"
     ]
    }
   ],
   "source": [
    "#cau c\n",
    "print(north_america)"
   ]
  }
 ],
 "metadata": {
  "interpreter": {
   "hash": "dcacb0086e9a4f4eabd41c33bf4faac5ea0a3337ed3f5eff0680afa930572c04"
  },
  "kernelspec": {
   "display_name": "Python 3.9.7 64-bit",
   "name": "python3"
  },
  "language_info": {
   "codemirror_mode": {
    "name": "ipython",
    "version": 3
   },
   "file_extension": ".py",
   "mimetype": "text/x-python",
   "name": "python",
   "nbconvert_exporter": "python",
   "pygments_lexer": "ipython3",
   "version": "3.9.7"
  },
  "orig_nbformat": 4
 },
 "nbformat": 4,
 "nbformat_minor": 2
}
