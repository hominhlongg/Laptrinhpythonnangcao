{
 "cells": [
  {
   "cell_type": "code",
   "execution_count": 1,
   "metadata": {},
   "outputs": [],
   "source": [
    "from Country import Country"
   ]
  },
  {
   "cell_type": "code",
   "execution_count": 2,
   "metadata": {},
   "outputs": [
    {
     "name": "stdout",
     "output_type": "stream",
     "text": [
      "canada.name -> Canada\n",
      "canada.population -> 34482779\n",
      "canada.area -> 9984670\n"
     ]
    }
   ],
   "source": [
    "#cau a\n",
    "canada = Country('Canada', 34482779, 9984670)\n",
    "print('canada.name ->',canada.name)\n",
    "print('canada.population ->',canada.population)\n",
    "print('canada.area ->',canada.area)"
   ]
  },
  {
   "cell_type": "code",
   "execution_count": 3,
   "metadata": {},
   "outputs": [
    {
     "name": "stdout",
     "output_type": "stream",
     "text": [
      "canada.is_larger(usa) ->  True\n"
     ]
    }
   ],
   "source": [
    "#cau b\n",
    "canada = Country('Canada', 34482779, 9984670)\n",
    "usa = Country('United States of America', 313914040, 9826675)\n",
    "print('canada.is_larger(usa) -> ',canada.is_larger(usa))"
   ]
  },
  {
   "cell_type": "code",
   "execution_count": 4,
   "metadata": {},
   "outputs": [
    {
     "name": "stdout",
     "output_type": "stream",
     "text": [
      "canada.population_density() -> 3.4535722262227995\n"
     ]
    }
   ],
   "source": [
    "#cau c\n",
    "print('canada.population_density() ->', canada.population_density())"
   ]
  },
  {
   "cell_type": "code",
   "execution_count": 5,
   "metadata": {},
   "outputs": [
    {
     "name": "stdout",
     "output_type": "stream",
     "text": [
      "usa -> United States of America has a population of 313914040 and its area is 9826675 square kilometers.\n"
     ]
    }
   ],
   "source": [
    "#cau d\n",
    "usa = Country('United States of America', 313914040, 9826675)\n",
    "print('usa ->',usa)"
   ]
  },
  {
   "cell_type": "code",
   "execution_count": 6,
   "metadata": {},
   "outputs": [
    {
     "name": "stdout",
     "output_type": "stream",
     "text": [
      "Canada has a population of 34482779 and its area is 9984670 square kilometers.\n",
      "[Country('Canada', 34482779, 9984670)]\n"
     ]
    }
   ],
   "source": [
    "#cau e\n",
    "canada = Country('Canada', 34482779, 9984670)\n",
    "canada\n",
    "print(canada)\n",
    "[canada]\n",
    "print([canada])"
   ]
  }
 ],
 "metadata": {
  "interpreter": {
   "hash": "dcacb0086e9a4f4eabd41c33bf4faac5ea0a3337ed3f5eff0680afa930572c04"
  },
  "kernelspec": {
   "display_name": "Python 3.9.7 64-bit",
   "name": "python3"
  },
  "language_info": {
   "codemirror_mode": {
    "name": "ipython",
    "version": 3
   },
   "file_extension": ".py",
   "mimetype": "text/x-python",
   "name": "python",
   "nbconvert_exporter": "python",
   "pygments_lexer": "ipython3",
   "version": "3.9.7"
  },
  "orig_nbformat": 4
 },
 "nbformat": 4,
 "nbformat_minor": 2
}
