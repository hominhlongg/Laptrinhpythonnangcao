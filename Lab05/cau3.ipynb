{
 "cells": [
  {
   "cell_type": "code",
   "execution_count": 2,
   "source": [
    "from Student import Student"
   ],
   "outputs": [],
   "metadata": {}
  },
  {
   "cell_type": "code",
   "execution_count": 7,
   "source": [
    "student1 = Student(\"Ho Minh Long\",\"TP.HCM\",\"oxfordoaoa@gmail.com\",20930)\r\n",
    "print(student1)"
   ],
   "outputs": [
    {
     "output_type": "stream",
     "name": "stdout",
     "text": [
      "Name of the student : Ho Minh Long \n",
      "Address : TP.HCM \n",
      "email : oxfordoaoa@gmail.com \n",
      "Student number : 20930 \n",
      "Courses_taken : [] \n",
      "Courses_taking : [] \n",
      "\n"
     ]
    }
   ],
   "metadata": {}
  },
  {
   "cell_type": "code",
   "execution_count": 8,
   "source": [
    "student1.courses_taken = [\"Python\",\"OOP\"]\r\n",
    "print(student1)"
   ],
   "outputs": [
    {
     "output_type": "stream",
     "name": "stdout",
     "text": [
      "Name of the student : Ho Minh Long \n",
      "Address : TP.HCM \n",
      "email : oxfordoaoa@gmail.com \n",
      "Student number : 20930 \n",
      "Courses_taken : ['Python', 'OOP'] \n",
      "Courses_taking : [] \n",
      "\n"
     ]
    }
   ],
   "metadata": {}
  },
  {
   "cell_type": "code",
   "execution_count": 9,
   "source": [
    "student1.courses_taking = [\"Advanced python programming\"]\r\n",
    "print(student1)"
   ],
   "outputs": [
    {
     "output_type": "stream",
     "name": "stdout",
     "text": [
      "Name of the student : Ho Minh Long \n",
      "Address : TP.HCM \n",
      "email : oxfordoaoa@gmail.com \n",
      "Student number : 20930 \n",
      "Courses_taken : ['Python', 'OOP'] \n",
      "Courses_taking : ['Advanced python programming'] \n",
      "\n"
     ]
    }
   ],
   "metadata": {}
  }
 ],
 "metadata": {
  "interpreter": {
   "hash": "84fb2fe92b14b18c056bda70d602a3106b09df8b368d4f2bd86b226979d0ed77"
  },
  "kernelspec": {
   "name": "python3",
   "display_name": "Python 3.8.3 32-bit"
  },
  "language_info": {
   "codemirror_mode": {
    "name": "ipython",
    "version": 3
   },
   "file_extension": ".py",
   "mimetype": "text/x-python",
   "name": "python",
   "nbconvert_exporter": "python",
   "pygments_lexer": "ipython3",
   "version": "3.8.3"
  },
  "orig_nbformat": 4
 },
 "nbformat": 4,
 "nbformat_minor": 2
}